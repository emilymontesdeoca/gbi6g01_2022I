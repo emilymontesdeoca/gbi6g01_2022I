{
  "nbformat": 4,
  "nbformat_minor": 0,
  "metadata": {
    "colab": {
      "name": "into_python.ipynb",
      "provenance": [],
      "collapsed_sections": [],
      "authorship_tag": "ABX9TyPSxnzHTvpc1PTzJC+4PJ2i",
      "include_colab_link": true
    },
    "kernelspec": {
      "name": "python3",
      "display_name": "Python 3"
    },
    "language_info": {
      "name": "python"
    }
  },
  "cells": [
    {
      "cell_type": "markdown",
      "metadata": {
        "id": "view-in-github",
        "colab_type": "text"
      },
      "source": [
        "<a href=\"https://colab.research.google.com/github/emilymontesdeoca/gbi6g01_2022I/blob/main/into_python.ipynb\" target=\"_parent\"><img src=\"https://colab.research.google.com/assets/colab-badge.svg\" alt=\"Open In Colab\"/></a>"
      ]
    },
    {
      "cell_type": "code",
      "execution_count": null,
      "metadata": {
        "id": "wzn_GZ_hxeLG"
      },
      "outputs": [],
      "source": [
        ""
      ]
    },
    {
      "cell_type": "markdown",
      "source": [
        ""
      ],
      "metadata": {
        "id": "GVhRUVvR0szB"
      }
    },
    {
      "cell_type": "markdown",
      "source": [
        "#BIOINFORMATICA\n"
      ],
      "metadata": {
        "id": "FuK0YcAlymWP"
      }
    },
    {
      "cell_type": "markdown",
      "source": [
        "## Clase 6 : Introduccion a Pyton \n",
        "en esta clase vamos a revisar los siguientes contenidos:\n",
        "\n",
        "\n",
        "1.   Historia de Pyton \n",
        "2.   tipos de Datos \n",
        "3.   Operaciones con numeros \n",
        "4.   Operaciones con texto\n",
        "\n",
        "## 1. Historia de Pyton \n",
        "La historia de Python se puede leer en la pagina web [python](https://docs.python.org/3/)\n",
        "\n",
        "\n",
        "\n"
      ],
      "metadata": {
        "id": "N1CpQjdEyhSS"
      }
    },
    {
      "cell_type": "markdown",
      "source": [
        "##2. Tips de datos \n",
        "- Numericos: Enteros (integer, int), decimales (double), complejos (complex) \n",
        "- Logicos: Verdadero (TRUE, T),Falso (FALSE, F)\n",
        "- Texto : cadena de caracteres \"Siempre entre comillas\""
      ],
      "metadata": {
        "id": "F3lg9Ptm06pr"
      }
    },
    {
      "cell_type": "markdown",
      "source": [
        ""
      ],
      "metadata": {
        "id": "Tl4DTIGC2eKA"
      }
    },
    {
      "cell_type": "code",
      "source": [
        "gen1_r = 1.5\n",
        "gen1_h = 1.7\n",
        "dif_gen1 = gen1_r - gen1_h \n",
        "ratio_gen1 = gen1_r / gen1_h\n"
      ],
      "metadata": {
        "id": "S7PNBeuS2nqs"
      },
      "execution_count": 3,
      "outputs": []
    },
    {
      "cell_type": "code",
      "source": [
        "print(\"gen1_h:\" , gen1_h)\n",
        "print(\"gen1_r:\" , gen1_r)\n",
        "print(\"dif_gen1:\" , dif_gen1)\n",
        "print(\"ratio_gen1:\" , ratio_gen1)\n"
      ],
      "metadata": {
        "colab": {
          "base_uri": "https://localhost:8080/"
        },
        "id": "sE7cw1HM6Y6P",
        "outputId": "9fd5184a-e980-4a36-8b0c-7ef63cb25513"
      },
      "execution_count": 7,
      "outputs": [
        {
          "output_type": "stream",
          "name": "stdout",
          "text": [
            "gen1_h: 1.7\n",
            "gen1_r: 1.5\n",
            "dif_gen1: -0.19999999999999996\n",
            "ratio_gen1: 0.8823529411764706\n"
          ]
        }
      ]
    },
    {
      "cell_type": "markdown",
      "source": [
        "## Operaciones de texto\n",
        "Creacion de variables con un nombre determinado\n",
        "- variable.capitalize() pone mayusculas\n",
        "- upper capitaliza a todas la letras "
      ],
      "metadata": {
        "id": "dCJgisQl8WX3"
      }
    },
    {
      "cell_type": "code",
      "source": [
        "saludo = \"hola con todos, que bueno que no hay examen, post tengo sueño\"\n",
        "saludo.capitalize()\n",
        "saludo.upper()"
      ],
      "metadata": {
        "colab": {
          "base_uri": "https://localhost:8080/",
          "height": 35
        },
        "id": "krM-pe-e8cde",
        "outputId": "921bb829-46f4-493d-e044-d1430528d16c"
      },
      "execution_count": 13,
      "outputs": [
        {
          "output_type": "execute_result",
          "data": {
            "text/plain": [
              "'HOLA CON TODOS, QUE BUENO QUE NO HAY EXAMEN, POST TENGO SUEÑO'"
            ],
            "application/vnd.google.colaboratory.intrinsic+json": {
              "type": "string"
            }
          },
          "metadata": {},
          "execution_count": 13
        }
      ]
    },
    {
      "cell_type": "markdown",
      "source": [
        "- len es un contador con espacios y todo "
      ],
      "metadata": {
        "id": "KfFIWeeS92mP"
      }
    },
    {
      "cell_type": "code",
      "source": [
        "len (saludo)"
      ],
      "metadata": {
        "colab": {
          "base_uri": "https://localhost:8080/"
        },
        "id": "1ZbpZg2t9z_K",
        "outputId": "52a0d097-7a06-4b40-dcfa-f65188c65eb5"
      },
      "execution_count": 14,
      "outputs": [
        {
          "output_type": "execute_result",
          "data": {
            "text/plain": [
              "61"
            ]
          },
          "metadata": {},
          "execution_count": 14
        }
      ]
    },
    {
      "cell_type": "code",
      "source": [
        "# En este bloque se revisa el uso combinado de funciones \n",
        "total =len(saludo)\n",
        "char_a = saludo.count(\"a\")\n",
        "ratio_a = 100*char_a / total \n",
        "print(\"Porcentraje de a:\" , ratio_a)\n"
      ],
      "metadata": {
        "colab": {
          "base_uri": "https://localhost:8080/"
        },
        "id": "_PCtNbSI-xtr",
        "outputId": "dcc694ea-9a11-440d-9c69-46756cc3cb4d"
      },
      "execution_count": 17,
      "outputs": [
        {
          "output_type": "stream",
          "name": "stdout",
          "text": [
            "Porcentraje de a: 4.918032786885246\n"
          ]
        }
      ]
    },
    {
      "cell_type": "code",
      "source": [
        "p53_l1 = \"TTCCTGGNCTGTAGGTAGCGACTACAGTTAGGGGGCACCTAGCATTCAGGCCCTCATCCTCCTCCTTCCC\""
      ],
      "metadata": {
        "id": "JG8OBNzABvVJ"
      },
      "execution_count": 18,
      "outputs": []
    },
    {
      "cell_type": "code",
      "source": [
        "Total =len(p53_l1)\n",
        "char_GC = (p53_l1.count(\"G\")+ p53_l1.count(\"C\"))\n",
        "ratio_GC = 100*char_GC / Total \n",
        "print(\"Porcentraje de GC:\" , ratio_GC)"
      ],
      "metadata": {
        "colab": {
          "base_uri": "https://localhost:8080/"
        },
        "id": "3vyUincYB_to",
        "outputId": "aca9f5d4-9a5d-437b-b218-c905904bf091"
      },
      "execution_count": 29,
      "outputs": [
        {
          "output_type": "stream",
          "name": "stdout",
          "text": [
            "Porcentraje de GC: 57.142857142857146\n"
          ]
        }
      ]
    },
    {
      "cell_type": "code",
      "source": [
        "print(\"porcentaje GC en P53\", 100*(p53_l1.count(\"G\")+ p53_l1.count(\"C\"))/len(p53_l1))"
      ],
      "metadata": {
        "colab": {
          "base_uri": "https://localhost:8080/"
        },
        "id": "JYp_JkiLDGu-",
        "outputId": "2c4341d1-7b03-473b-b29c-6b663cd0221c"
      },
      "execution_count": 24,
      "outputs": [
        {
          "output_type": "stream",
          "name": "stdout",
          "text": [
            "porcentaje GC en P53 57.142857142857146\n"
          ]
        }
      ]
    },
    {
      "cell_type": "markdown",
      "source": [
        ""
      ],
      "metadata": {
        "id": "8ETr8E8kEi8x"
      }
    },
    {
      "cell_type": "code",
      "source": [
        "# Subconjunto\n",
        "print(p53_l1)\n",
        "fi= p53_l1.find(\"TAC\")\n",
        "ff1= p53_l1.find(\"ATT\")\n",
        "ff2= p53_l1.find(\"ATC\")\n",
        "ff3= p53_l1.find(\"ACT\")\n"
      ],
      "metadata": {
        "colab": {
          "base_uri": "https://localhost:8080/"
        },
        "id": "moNV8RPvMe6_",
        "outputId": "702ef95f-ad74-4a2a-8c9c-28da19baa467"
      },
      "execution_count": 32,
      "outputs": [
        {
          "output_type": "stream",
          "name": "stdout",
          "text": [
            "TTCCTGGNCTGTAGGTAGCGACTACAGTTAGGGGGCACCTAGCATTCAGGCCCTCATCCTCCTCCTTCCC\n"
          ]
        }
      ]
    },
    {
      "cell_type": "code",
      "source": [
        "p53_l1[3:6]"
      ],
      "metadata": {
        "colab": {
          "base_uri": "https://localhost:8080/",
          "height": 35
        },
        "id": "lv88BEy4PB4r",
        "outputId": "b302a570-08fa-4be7-e3b6-89307405f2b8"
      },
      "execution_count": 35,
      "outputs": [
        {
          "output_type": "execute_result",
          "data": {
            "text/plain": [
              "'CTG'"
            ],
            "application/vnd.google.colaboratory.intrinsic+json": {
              "type": "string"
            }
          },
          "metadata": {},
          "execution_count": 35
        }
      ]
    },
    {
      "cell_type": "code",
      "source": [
        "mRNA_f1 = p53_l1[fi:ff1+3]\n",
        "print(mRNA_f1)"
      ],
      "metadata": {
        "colab": {
          "base_uri": "https://localhost:8080/"
        },
        "id": "nlZOzUmCQk8O",
        "outputId": "64f3e8ee-fe30-4fba-bd74-9aeb6a809f6d"
      },
      "execution_count": 38,
      "outputs": [
        {
          "output_type": "stream",
          "name": "stdout",
          "text": [
            "TACAGTTAGGGGGCACCTAGCATT\n"
          ]
        }
      ]
    },
    {
      "cell_type": "code",
      "source": [
        "# Cadena complementara \n",
        "print(saludo)\n",
        "saludo.replace(\"a\", \"e\")"
      ],
      "metadata": {
        "colab": {
          "base_uri": "https://localhost:8080/",
          "height": 53
        },
        "id": "Dx56PBecRkJY",
        "outputId": "a2172f61-6a13-4501-86ca-49c664c6372c"
      },
      "execution_count": 41,
      "outputs": [
        {
          "output_type": "stream",
          "name": "stdout",
          "text": [
            "hola con todos, que bueno que no hay examen, post tengo sueño\n"
          ]
        },
        {
          "output_type": "execute_result",
          "data": {
            "text/plain": [
              "'hole con todos, que bueno que no hey exemen, post tengo sueño'"
            ],
            "application/vnd.google.colaboratory.intrinsic+json": {
              "type": "string"
            }
          },
          "metadata": {},
          "execution_count": 41
        }
      ]
    },
    {
      "cell_type": "code",
      "source": [
        "p53_a = p53_l1.replace(\"A\", \"t\")\n",
        "p53_t = p53_a.replace(\"T\", \"a\")\n",
        "p53_g = p53_t.replace(\"G\", \"c\")\n",
        "p53_c = p53_g.replace(\"C\", \"g\")\n",
        "print(p53_c)\n",
        "p53_complementario = p53_c.upper()\n",
        "\n"
      ],
      "metadata": {
        "colab": {
          "base_uri": "https://localhost:8080/"
        },
        "id": "1rkLk3oYSVY9",
        "outputId": "46d7aaaa-c47f-4cdd-cf9f-c7dbcefd60dc"
      },
      "execution_count": 48,
      "outputs": [
        {
          "output_type": "stream",
          "name": "stdout",
          "text": [
            "aaggaccNgacatccatcgctgatgtcaatcccccgtggatcgtaagtccgggagtaggaggaggaaggg\n",
            "AAGGACCNGACATCCATCGCTGATGTCAATCCCCCGTGGATCGTAAGTCCGGGAGTAGGAGGAGGAAGGG\n"
          ]
        }
      ]
    },
    {
      "cell_type": "code",
      "source": [
        "print(p53_l1)\n",
        "print (p53_complementario)\n"
      ],
      "metadata": {
        "colab": {
          "base_uri": "https://localhost:8080/"
        },
        "id": "5X43_ZQKUiV1",
        "outputId": "4590176a-01d8-484d-e20f-c1530668e6cf"
      },
      "execution_count": 49,
      "outputs": [
        {
          "output_type": "stream",
          "name": "stdout",
          "text": [
            "TTCCTGGNCTGTAGGTAGCGACTACAGTTAGGGGGCACCTAGCATTCAGGCCCTCATCCTCCTCCTTCCC\n",
            "AAGGACCNGACATCCATCGCTGATGTCAATCCCCCGTGGATCGTAAGTCCGGGAGTAGGAGGAGGAAGGG\n"
          ]
        }
      ]
    },
    {
      "cell_type": "code",
      "source": [
        "print(p53_l1)\n",
        "print (p53_complementario)\n",
        "p53_l1c_r = p53_complementario[::-1] \n",
        "print(p53_l1c_r)"
      ],
      "metadata": {
        "colab": {
          "base_uri": "https://localhost:8080/"
        },
        "id": "A1VvM_24VXyl",
        "outputId": "8e923530-fc96-4f96-e9f3-a1e9c4ba8bf7"
      },
      "execution_count": 51,
      "outputs": [
        {
          "output_type": "stream",
          "name": "stdout",
          "text": [
            "TTCCTGGNCTGTAGGTAGCGACTACAGTTAGGGGGCACCTAGCATTCAGGCCCTCATCCTCCTCCTTCCC\n",
            "AAGGACCNGACATCCATCGCTGATGTCAATCCCCCGTGGATCGTAAGTCCGGGAGTAGGAGGAGGAAGGG\n",
            "GGGAAGGAGGAGGATGAGGGCCTGAATGCTAGGTGCCCCCTAACTGTAGTCGCTACCTACAGNCCAGGAA\n"
          ]
        }
      ]
    },
    {
      "cell_type": "code",
      "source": [
        "print(p53_l1c_r)\n",
        "fii= p53_l1c_r.find(\"TAC\")\n",
        "ff11= p53_l1c_r.find(\"ATT\")\n",
        "ff22= p53_l1c_r.find(\"ATC\")\n",
        "ff33= p53_l1c_r.find(\"ACT\")"
      ],
      "metadata": {
        "colab": {
          "base_uri": "https://localhost:8080/"
        },
        "id": "Pg4yyH0CXNe8",
        "outputId": "e04ddbb6-d86d-4ff3-d411-c2d8d8bfd87a"
      },
      "execution_count": 52,
      "outputs": [
        {
          "output_type": "stream",
          "name": "stdout",
          "text": [
            "GGGAAGGAGGAGGATGAGGGCCTGAATGCTAGGTGCCCCCTAACTGTAGTCGCTACCTACAGNCCAGGAA\n"
          ]
        }
      ]
    }
  ]
}